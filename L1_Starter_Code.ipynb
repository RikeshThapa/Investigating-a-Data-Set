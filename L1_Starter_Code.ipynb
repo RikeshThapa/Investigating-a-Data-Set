{
 "cells": [
  {
   "cell_type": "markdown",
   "metadata": {},
   "source": [
    "## Load Data from CSVs"
   ]
  },
  {
   "cell_type": "code",
   "execution_count": 3,
   "metadata": {
    "collapsed": false
   },
   "outputs": [],
   "source": [
    "import unicodecsv\n",
    "\n",
    "## Longer version of code (replaced with shorter, equivalent version below)\n",
    "\n",
    "# enrollments = []\n",
    "# f = open('enrollments.csv', 'rb')\n",
    "# reader = unicodecsv.DictReader(f)\n",
    "# for row in reader:\n",
    "#     enrollments.append(row)\n",
    "# f.close()\n",
    "\n",
    "with open('enrollments.csv', 'rb') as f:\n",
    "    reader = unicodecsv.DictReader(f)\n",
    "    enrollments = list(reader)"
   ]
  },
  {
   "cell_type": "code",
   "execution_count": 4,
   "metadata": {
    "collapsed": false
   },
   "outputs": [
    {
     "data": {
      "text/plain": [
       "{u'account_key': u'256',\n",
       " u'assigned_rating': u'UNGRADED',\n",
       " u'completion_date': u'2015-01-16',\n",
       " u'creation_date': u'2015-01-14',\n",
       " u'lesson_key': u'3176718735',\n",
       " u'processing_state': u'EVALUATED'}"
      ]
     },
     "execution_count": 4,
     "metadata": {},
     "output_type": "execute_result"
    }
   ],
   "source": [
    "#####################################\n",
    "#                 1                 #\n",
    "#####################################\n",
    "\n",
    "## Read in the data from daily_engagement.csv and project_submissions.csv \n",
    "## and store the results in the below variables.\n",
    "## Then look at the first row of each table.\n",
    "\n",
    "#reading csv method\n",
    "def readCSV(fileName):\n",
    "    with open(fileName, 'rb') as f:\n",
    "        reader = unicodecsv.DictReader(f)\n",
    "        return list(reader)\n",
    "    \n",
    "enrollments = readCSV('enrollments.csv')\n",
    "daily_engagement = readCSV('daily_engagement.csv')\n",
    "project_submissions = readCSV('project_submissions.csv')\n",
    "\n",
    "daily_engagement[0]\n",
    "project_submissions[0]"
   ]
  },
  {
   "cell_type": "markdown",
   "metadata": {},
   "source": [
    "## Fixing Data Types"
   ]
  },
  {
   "cell_type": "code",
   "execution_count": 5,
   "metadata": {
    "collapsed": false
   },
   "outputs": [
    {
     "data": {
      "text/plain": [
       "{u'account_key': u'448',\n",
       " u'cancel_date': datetime.datetime(2015, 1, 14, 0, 0),\n",
       " u'days_to_cancel': 65,\n",
       " u'is_canceled': True,\n",
       " u'is_udacity': True,\n",
       " u'join_date': datetime.datetime(2014, 11, 10, 0, 0),\n",
       " u'status': u'canceled'}"
      ]
     },
     "execution_count": 5,
     "metadata": {},
     "output_type": "execute_result"
    }
   ],
   "source": [
    "from datetime import datetime as dt\n",
    "\n",
    "# Takes a date as a string, and returns a Python datetime object. \n",
    "# If there is no date given, returns None\n",
    "def parse_date(date):\n",
    "    if date == '':\n",
    "        return None\n",
    "    else:\n",
    "        return dt.strptime(date, '%Y-%m-%d')\n",
    "    \n",
    "# Takes a string which is either an empty string or represents an integer,\n",
    "# and returns an int or None.\n",
    "def parse_maybe_int(i):\n",
    "    if i == '':\n",
    "        return None\n",
    "    else:\n",
    "        return int(i)\n",
    "\n",
    "# Clean up the data types in the enrollments table\n",
    "for enrollment in enrollments:\n",
    "    enrollment['cancel_date'] = parse_date(enrollment['cancel_date'])\n",
    "    enrollment['days_to_cancel'] = parse_maybe_int(enrollment['days_to_cancel'])\n",
    "    enrollment['is_canceled'] = enrollment['is_canceled'] == 'True'\n",
    "    enrollment['is_udacity'] = enrollment['is_udacity'] == 'True'\n",
    "    enrollment['join_date'] = parse_date(enrollment['join_date'])\n",
    "    \n",
    "enrollments[0]"
   ]
  },
  {
   "cell_type": "code",
   "execution_count": 6,
   "metadata": {
    "collapsed": false
   },
   "outputs": [
    {
     "data": {
      "text/plain": [
       "{u'acct': u'0',\n",
       " u'lessons_completed': 0,\n",
       " u'num_courses_visited': 1,\n",
       " u'projects_completed': 0,\n",
       " u'total_minutes_visited': 11.6793745,\n",
       " u'utc_date': datetime.datetime(2015, 1, 9, 0, 0)}"
      ]
     },
     "execution_count": 6,
     "metadata": {},
     "output_type": "execute_result"
    }
   ],
   "source": [
    "# Clean up the data types in the engagement table\n",
    "for engagement_record in daily_engagement:\n",
    "    engagement_record['lessons_completed'] = int(float(engagement_record['lessons_completed']))\n",
    "    engagement_record['num_courses_visited'] = int(float(engagement_record['num_courses_visited']))\n",
    "    engagement_record['projects_completed'] = int(float(engagement_record['projects_completed']))\n",
    "    engagement_record['total_minutes_visited'] = float(engagement_record['total_minutes_visited'])\n",
    "    engagement_record['utc_date'] = parse_date(engagement_record['utc_date'])\n",
    "    \n",
    "daily_engagement[0]"
   ]
  },
  {
   "cell_type": "code",
   "execution_count": 7,
   "metadata": {
    "collapsed": false
   },
   "outputs": [
    {
     "data": {
      "text/plain": [
       "{u'account_key': u'256',\n",
       " u'assigned_rating': u'UNGRADED',\n",
       " u'completion_date': datetime.datetime(2015, 1, 16, 0, 0),\n",
       " u'creation_date': datetime.datetime(2015, 1, 14, 0, 0),\n",
       " u'lesson_key': u'3176718735',\n",
       " u'processing_state': u'EVALUATED'}"
      ]
     },
     "execution_count": 7,
     "metadata": {},
     "output_type": "execute_result"
    }
   ],
   "source": [
    "# Clean up the data types in the submissions table\n",
    "for submission in project_submissions:\n",
    "    submission['completion_date'] = parse_date(submission['completion_date'])\n",
    "    submission['creation_date'] = parse_date(submission['creation_date'])\n",
    "\n",
    "project_submissions[0]"
   ]
  },
  {
   "cell_type": "markdown",
   "metadata": {},
   "source": [
    "## Problems in the Data"
   ]
  },
  {
   "cell_type": "code",
   "execution_count": 8,
   "metadata": {
    "collapsed": false
   },
   "outputs": [
    {
     "data": {
      "text/plain": [
       "u'0'"
      ]
     },
     "execution_count": 8,
     "metadata": {},
     "output_type": "execute_result"
    }
   ],
   "source": [
    "#####################################\n",
    "#                 3                 #\n",
    "#####################################\n",
    "\n",
    "## Rename the \"acct\" column in the daily_engagement table to \"account_key\".\n",
    "for n in daily_engagement:\n",
    "    n['account_key'] = n['acct']\n",
    "    del(n['acct'])\n",
    "daily_engagement[0]['account_key']"
   ]
  },
  {
   "cell_type": "markdown",
   "metadata": {},
   "source": [
    "## Investigating the Data"
   ]
  },
  {
   "cell_type": "code",
   "execution_count": 9,
   "metadata": {
    "collapsed": false
   },
   "outputs": [
    {
     "name": "stdout",
     "output_type": "stream",
     "text": [
      "743\n",
      "1302\n",
      "1640\n",
      "1237\n"
     ]
    }
   ],
   "source": [
    "#####################################\n",
    "#                 2                 #\n",
    "#####################################\n",
    "\n",
    "## Find the total number of rows and the number of unique students (account keys)\n",
    "## in each table.\n",
    "\n",
    "#def createAccountKeyTable(dataFrame):\n",
    "    #dataFrame\n",
    "#for()\n",
    "#enrollments[0]['account_key']\n",
    "len(enrollments)\n",
    "\n",
    "def rows(tableName):\n",
    "    return len(tableName)\n",
    "\n",
    "#def uniqueID(tableName):\n",
    "    #return set()\n",
    "\n",
    "rangesEnrollments = rows(enrollments)\n",
    "rangesSubmissions = rows(project_submissions)\n",
    "rangesEngagement = rows(daily_engagement)\n",
    "\n",
    "def uniqueId(tableName, ranges):\n",
    "    n = 0\n",
    "    IdSet = set()\n",
    "    for n in range (0, ranges):\n",
    "        '''if (tableName == daily_engagement):\n",
    "            temp = tableName[n]['acct']\n",
    "            IdSet.add(temp)\n",
    "        else:'''\n",
    "        temp = tableName[n]['account_key']\n",
    "        IdSet.add(temp)\n",
    "    return IdSet\n",
    "\n",
    "print len(uniqueId(project_submissions, rangesSubmissions))\n",
    "print len(uniqueId(enrollments, rangesEnrollments))\n",
    "print rangesEnrollments\n",
    "print len(uniqueId(daily_engagement, rangesEngagement))"
   ]
  },
  {
   "cell_type": "markdown",
   "metadata": {},
   "source": [
    "## Missing Engagement Records"
   ]
  },
  {
   "cell_type": "code",
   "execution_count": 10,
   "metadata": {
    "collapsed": false
   },
   "outputs": [
    {
     "name": "stdout",
     "output_type": "stream",
     "text": [
      "set([u'1304', u'1129', u'1186', u'1270', u'1222', u'884', u'1120', u'749', u'889', u'707', u'766', u'1125', u'1213', u'996', u'870', u'1069', u'1025', u'1237', u'1079', u'1191', u'1190', u'1145', u'875', u'733', u'799', u'871', u'819', u'654', u'737', u'739', u'914', u'1291', u'1010', u'1148', u'817', u'902', u'997', u'1219', u'981', u'1171', u'717', u'1218', u'1273', u'1238', u'711', u'1241', u'750', u'964', u'1284', u'878', u'841', u'1044', u'1086', u'1155', u'968', u'789', u'664', u'727', u'725', u'926', u'1101', u'803', u'802', u'1063', u'728'])\n"
     ]
    }
   ],
   "source": [
    "#####################################\n",
    "#                 4                 #\n",
    "#####################################\n",
    "\n",
    "## Find any one student enrollments where the student is missing from the daily engagement table.\n",
    "## Output that enrollment.\n",
    "enrollmentSet = uniqueId(enrollments, rangesEnrollments)\n",
    "engagementSet = uniqueId(daily_engagement, rangesEngagement)\n",
    "nonEngaged = set()\n",
    "\n",
    "for n in range(0, rangesEnrollments):\n",
    "    if (enrollments[n]['account_key'] not in engagementSet):\n",
    "        nonEngaged.add(enrollments[n]['account_key'])\n",
    "\n",
    "print nonEngaged\n",
    "\n"
   ]
  },
  {
   "cell_type": "markdown",
   "metadata": {},
   "source": [
    "## Checking for More Problem Records"
   ]
  },
  {
   "cell_type": "code",
   "execution_count": 11,
   "metadata": {
    "collapsed": false
   },
   "outputs": [
    {
     "name": "stdout",
     "output_type": "stream",
     "text": [
      "{u'status': u'canceled', u'is_udacity': True, u'is_canceled': True, u'join_date': datetime.datetime(2015, 1, 10, 0, 0), u'account_key': u'1304', u'cancel_date': datetime.datetime(2015, 3, 10, 0, 0), u'days_to_cancel': 59}\n",
      "{u'status': u'canceled', u'is_udacity': True, u'is_canceled': True, u'join_date': datetime.datetime(2015, 3, 10, 0, 0), u'account_key': u'1304', u'cancel_date': datetime.datetime(2015, 6, 17, 0, 0), u'days_to_cancel': 99}\n",
      "{u'status': u'current', u'is_udacity': True, u'is_canceled': False, u'join_date': datetime.datetime(2015, 2, 25, 0, 0), u'account_key': u'1101', u'cancel_date': None, u'days_to_cancel': None}\n",
      "3\n"
     ]
    }
   ],
   "source": [
    "#####################################\n",
    "#                 5                 #\n",
    "#####################################\n",
    "\n",
    "## Find the number of surprising data points (enrollments missing from\n",
    "## the engagement table) that remain, if any.\n",
    "x = 0\n",
    "strange = []\n",
    "for n in range(0, rangesEnrollments):\n",
    "    if (enrollments[n]['account_key'] in nonEngaged):\n",
    "        if (enrollments[n]['join_date'] != enrollments[n]['cancel_date']):\n",
    "            x = x+1\n",
    "            strange.append(enrollments[n])\n",
    "print strange[0]\n",
    "print strange[1]\n",
    "print strange[2]\n",
    "print x"
   ]
  },
  {
   "cell_type": "markdown",
   "metadata": {},
   "source": [
    "## Tracking Down the Remaining Problems"
   ]
  },
  {
   "cell_type": "code",
   "execution_count": 12,
   "metadata": {
    "collapsed": false
   },
   "outputs": [
    {
     "data": {
      "text/plain": [
       "6"
      ]
     },
     "execution_count": 12,
     "metadata": {},
     "output_type": "execute_result"
    }
   ],
   "source": [
    "# Create a set of the account keys for all Udacity test accounts\n",
    "udacity_test_accounts = set()\n",
    "for enrollment in enrollments:\n",
    "    if enrollment['is_udacity']:\n",
    "        udacity_test_accounts.add(enrollment['account_key'])\n",
    "len(udacity_test_accounts)"
   ]
  },
  {
   "cell_type": "code",
   "execution_count": 13,
   "metadata": {
    "collapsed": true
   },
   "outputs": [],
   "source": [
    "# Given some data with an account_key field, removes any records corresponding to Udacity test accounts\n",
    "def remove_udacity_accounts(data):\n",
    "    non_udacity_data = []\n",
    "    for data_point in data:\n",
    "        if data_point['account_key'] not in udacity_test_accounts:\n",
    "            non_udacity_data.append(data_point)\n",
    "    return non_udacity_data"
   ]
  },
  {
   "cell_type": "code",
   "execution_count": 14,
   "metadata": {
    "collapsed": false
   },
   "outputs": [
    {
     "name": "stdout",
     "output_type": "stream",
     "text": [
      "1622\n",
      "135656\n",
      "3634\n"
     ]
    }
   ],
   "source": [
    "# Remove Udacity test accounts from all three tables\n",
    "non_udacity_enrollments = remove_udacity_accounts(enrollments)\n",
    "non_udacity_engagement = remove_udacity_accounts(daily_engagement)\n",
    "non_udacity_submissions = remove_udacity_accounts(project_submissions)\n",
    "\n",
    "print len(non_udacity_enrollments) \n",
    "print len(non_udacity_engagement)\n",
    "print len(non_udacity_submissions)"
   ]
  },
  {
   "cell_type": "markdown",
   "metadata": {},
   "source": [
    "## Refining the Question"
   ]
  },
  {
   "cell_type": "code",
   "execution_count": 15,
   "metadata": {
    "collapsed": false
   },
   "outputs": [
    {
     "name": "stdout",
     "output_type": "stream",
     "text": [
      "995\n"
     ]
    }
   ],
   "source": [
    "#####################################\n",
    "#                 6                 #\n",
    "#####################################\n",
    "\n",
    "## Create a dictionary named paid_students containing all students who either\n",
    "## haven't canceled yet or who remained enrolled for more than 7 days. The keys\n",
    "## should be account keys, and the values should be the date the student enrolled.\n",
    "\n",
    "# days_to_cancel == None OR days_to_cancel > 7\n",
    "# \n",
    "\n",
    "paid_students = {}\n",
    "egSet = set()\n",
    "\n",
    "for n in non_udacity_enrollments:\n",
    "    if((n['days_to_cancel']== None) or (n['days_to_cancel']>7)):\n",
    "        account_key = n['account_key']\n",
    "        enrollment_date = n['join_date']\n",
    "        if(account_key not in paid_students or enrollment_date > paid_students[account_key]):\n",
    "            paid_students[account_key] = enrollment_date\n",
    "            \n",
    "\n",
    "egSet = paid_students.keys()\n",
    "print len(paid_students)\n",
    " "
   ]
  },
  {
   "cell_type": "markdown",
   "metadata": {},
   "source": [
    "## Getting Data from First Week"
   ]
  },
  {
   "cell_type": "code",
   "execution_count": 16,
   "metadata": {
    "collapsed": true
   },
   "outputs": [],
   "source": [
    "# Takes a student's join date and the date of a specific engagement record,\n",
    "# and returns True if that engagement record happened within one week\n",
    "# of the student joining.\n",
    "def within_one_week(join_date, engagement_date):\n",
    "    time_delta = engagement_date - join_date\n",
    "    return time_delta.days < 7 and time_delta.days >=0"
   ]
  },
  {
   "cell_type": "code",
   "execution_count": 17,
   "metadata": {
    "collapsed": false
   },
   "outputs": [
    {
     "name": "stdout",
     "output_type": "stream",
     "text": [
      "1293\n",
      "134549\n",
      "3618\n",
      "6919\n"
     ]
    }
   ],
   "source": [
    "#####################################\n",
    "#                 7                 #\n",
    "#####################################\n",
    "\n",
    "## Create a list of rows from the engagement table including only rows where\n",
    "## the student is one of the paid students you just found, and the date is within\n",
    "## one week of the student's join date.\n",
    "\n",
    "def removeTrialAccounts(dataField):\n",
    "    newData = []\n",
    "    for data in dataField:\n",
    "        if data['account_key'] in egSet:\n",
    "            newData.append(data)\n",
    "    return newData\n",
    "\n",
    "paidEnrollments = removeTrialAccounts(non_udacity_enrollments)\n",
    "paidEngagements = removeTrialAccounts(non_udacity_engagement)\n",
    "paidSubmissions = removeTrialAccounts(non_udacity_submissions)\n",
    "\n",
    "paid_engagement_in_first_week = []\n",
    "\n",
    "print len(paidEnrollments)\n",
    "print len(paidEngagements)\n",
    "print len(paidSubmissions)\n",
    "\n",
    "for n in paidEngagements:\n",
    "    account_key = n['account_key']\n",
    "    join_date = paid_students[account_key]\n",
    "    engagement_date = n['utc_date']\n",
    "    \n",
    "    if within_one_week(join_date, engagement_date):\n",
    "        paid_engagement_in_first_week.append(n)\n",
    "            \n",
    "print len(paid_engagement_in_first_week)\n",
    "\n",
    "                \n",
    "                \n"
   ]
  },
  {
   "cell_type": "markdown",
   "metadata": {},
   "source": [
    "## Exploring Student Engagement"
   ]
  },
  {
   "cell_type": "code",
   "execution_count": 18,
   "metadata": {
    "collapsed": true
   },
   "outputs": [],
   "source": [
    "from collections import defaultdict\n",
    "\n",
    "# Create a dictionary of engagement grouped by student.\n",
    "# The keys are account keys, and the values are lists of engagement records.\n",
    "engagement_by_account = defaultdict(list)\n",
    "for engagement_record in paid_engagement_in_first_week:\n",
    "    account_key = engagement_record['account_key']\n",
    "    engagement_by_account[account_key].append(engagement_record)\n",
    "\n",
    "# code to group data by any variable eg. account_key\n",
    "\n",
    "def groupData(data, key_name):\n",
    "    data_by_account = defaultdict(list)   #enters in missign values form data\n",
    "    for n in data:\n",
    "        key_value = n['account_key']\n",
    "        data_by_account[key_value].append(n)\n",
    "    return data_by_account\n",
    "    "
   ]
  },
  {
   "cell_type": "code",
   "execution_count": 19,
   "metadata": {
    "collapsed": false
   },
   "outputs": [],
   "source": [
    "# Create a dictionary with the total minutes each student spent in the classroom during the first week.\n",
    "# The keys are account keys, and the values are numbers (total minutes)\n",
    "total_minutes_by_account = {}\n",
    "for account_key, engagement_for_student in engagement_by_account.items():\n",
    "    total_minutes = 0\n",
    "    for engagement_record in engagement_for_student:\n",
    "        total_minutes += engagement_record['total_minutes_visited']\n",
    "    total_minutes_by_account[account_key] = total_minutes\n",
    "\n",
    "#data is defaultdict(list) passed through the  groupData(data, key_name) function\n",
    "def getTotalOfDataValue(data, dataField):\n",
    "    total_data_field = {}\n",
    "    for account_key, n in data.items():\n",
    "    #account_key is account key; n is for example engagement_for_student i.e. the relevant data field value in the students data\n",
    "        total_data = 0\n",
    "        #total_data is place holder for datafield that we will be totaling eg. total minutes\n",
    "        for n_record in n:\n",
    "            #little confusing code, but n_record will loop through the individual tupules in the user's data \"n\"\n",
    "            total_data += n_record[dataField]\n",
    "        total_data_field[account_key] = total_data\n",
    "    return total_data_field\n",
    "   \n",
    "        "
   ]
  },
  {
   "cell_type": "code",
   "execution_count": 20,
   "metadata": {
    "collapsed": false
   },
   "outputs": [
    {
     "name": "stdout",
     "output_type": "stream",
     "text": [
      "Mean: 306.708326753\n",
      "Standard deviation: 412.996933409\n",
      "Minimum: 0.0\n",
      "Maximum: 3564.7332645\n"
     ]
    }
   ],
   "source": [
    "import numpy as np\n",
    "\n",
    "# Summarize the data about minutes spent in the classroom\n",
    "total_minutes = total_minutes_by_account.values()\n",
    "print 'Mean:', np.mean(total_minutes)\n",
    "print 'Standard deviation:', np.std(total_minutes)\n",
    "print 'Minimum:', np.min(total_minutes)\n",
    "print 'Maximum:', np.max(total_minutes)\n",
    "\n",
    "def summarizeData(summarized_data):\n",
    "    total_data = summarized_data.values()\n",
    "    print 'Mean:', np.mean(total_data)\n",
    "    print 'Standard deviation:', np.std(total_data)\n",
    "    print 'Minimum:', np.min(total_data)\n",
    "    print 'Maximum:', np.max(total_data)\n",
    "    print '\\n'\n",
    "    "
   ]
  },
  {
   "cell_type": "markdown",
   "metadata": {},
   "source": [
    "## Debugging Data Analysis Code"
   ]
  },
  {
   "cell_type": "code",
   "execution_count": 21,
   "metadata": {
    "collapsed": false
   },
   "outputs": [
    {
     "name": "stdout",
     "output_type": "stream",
     "text": [
      "[u'619', u'1140', u'669', u'428', u'344', u'0', u'346', u'347', u'340', u'341', u'342', u'343', u'811', u'812', u'348', u'349', u'816', u'918', u'1149', u'719', u'718', u'715', u'426', u'713', u'712', u'710', u'661', u'129', u'660', u'422', u'1060', u'1062', u'1067', u'1066', u'671', u'427', u'298', u'299', u'296', u'297', u'294', u'295', u'292', u'293', u'290', u'291', u'591', u'590', u'593', u'592', u'595', u'594', u'597', u'596', u'195', u'194', u'197', u'196', u'191', u'190', u'193', u'192', u'270', u'271', u'272', u'273', u'274', u'275', u'276', u'277', u'278', u'279', u'497', u'524', u'525', u'526', u'527', u'520', u'1019', u'522', u'523', u'1014', u'1015', u'528', u'529', u'1013', u'1235', u'449', u'391', u'1231', u'443', u'442', u'441', u'440', u'447', u'446', u'445', u'444', u'47', u'108', u'109', u'102', u'103', u'100', u'101', u'106', u'107', u'104', u'105', u'39', u'38', u'906', u'905', u'33', u'32', u'31', u'30', u'37', u'36', u'35', u'34', u'641', u'640', u'1243', u'642', u'645', u'644', u'438', u'439', u'436', u'437', u'434', u'435', u'432', u'433', u'430', u'431', u'339', u'338', u'335', u'334', u'337', u'336', u'331', u'330', u'333', u'332', u'559', u'823', u'854', u'855', u'856', u'857', u'851', u'852', u'345', u'858', u'859', u'748', u'6', u'822', u'43', u'99', u'98', u'91', u'90', u'93', u'92', u'94', u'97', u'96', u'153', u'742', u'743', u'744', u'558', u'746', u'747', u'555', u'554', u'557', u'556', u'551', u'550', u'553', u'552', u'919', u'238', u'239', u'234', u'235', u'236', u'237', u'230', u'231', u'232', u'233', u'1050', u'1198', u'1052', u'1053', u'1054', u'1055', u'1056', u'1058', u'1194', u'1', u'155', u'159', u'146', u'1176', u'618', u'145', u'142', u'143', u'140', u'1170', u'612', u'613', u'610', u'611', u'616', u'617', u'148', u'149', u'511', u'1276', u'154', u'1285', u'1287', u'948', u'1282', u'946', u'1289', u'940', u'941', u'689', u'517', u'687', u'686', u'682', u'458', u'1302', u'459', u'873', u'133', u'132', u'131', u'130', u'137', u'136', u'135', u'134', u'494', u'495', u'139', u'138', u'490', u'491', u'492', u'493', u'24', u'25', u'26', u'27', u'20', u'21', u'22', u'23', u'1220', u'28', u'29', u'407', u'406', u'405', u'404', u'403', u'402', u'401', u'400', u'932', u'931', u'937', u'452', u'409', u'408', u'453', u'414', u'457', u'183', u'265', u'379', u'378', u'228', u'829', u'828', u'371', u'370', u'373', u'372', u'375', u'374', u'377', u'376', u'1278', u'709', u'147', u'704', u'705', u'706', u'144', u'702', u'393', u'392', u'88', u'89', u'397', u'396', u'395', u'394', u'82', u'83', u'80', u'81', u'86', u'87', u'84', u'85', u'797', u'796', u'794', u'793', u'792', u'791', u'141', u'798', u'7', u'170', u'586', u'587', u'584', u'585', u'582', u'583', u'580', u'581', u'1274', u'1131', u'1130', u'1136', u'588', u'589', u'245', u'244', u'246', u'241', u'614', u'243', u'242', u'615', u'249', u'248', u'418', u'519', u'518', u'1009', u'1007', u'510', u'513', u'512', u'515', u'1002', u'1001', u'1000', u'623', u'622', u'621', u'514', u'627', u'626', u'625', u'624', u'450', u'451', u'629', u'628', u'454', u'455', u'456', u'1228', u'179', u'178', u'1139', u'199', u'175', u'174', u'173', u'172', u'171', u'198', u'977', u'182', u'975', u'973', u'972', u'657', u'1080', u'979', u'656', u'599', u'180', u'181', u'186', u'187', u'184', u'185', u'652', u'188', u'189', u'516', u'1123', u'650', u'1124', u'651', u'316', u'1089', u'1088', u'1227', u'1113', u'11', u'10', u'13', u'12', u'15', u'14', u'17', u'16', u'19', u'18', u'864', u'867', u'866', u'354', u'1210', u'1226', u'883', u'882', u'880', u'887', u'885', u'569', u'888', u'1292', u'45', u'322', u'323', u'320', u'321', u'326', u'327', u'324', u'325', u'1224', u'328', u'329', u'562', u'201', u'200', u'203', u'202', u'205', u'204', u'207', u'177', u'209', u'208', u'779', u'778', u'77', u'76', u'75', u'74', u'73', u'72', u'71', u'70', u'655', u'79', u'78', u'1042', u'1040', u'1049', u'1048', u'359', u'358', u'868', u'1142', u'1143', u'1269', u'1268', u'1146', u'1147', u'1144', u'1305', u'667', u'1262', u'665', u'1260', u'1267', u'1266', u'1265', u'1264', u'215', u'653', u'692', u'693', u'690', u'224', u'696', u'697', u'694', u'698', u'1303', u'222', u'542', u'543', u'540', u'541', u'546', u'547', u'544', u'545', u'8', u'548', u'549', u'521', u'990', u'992', u'120', u'121', u'122', u'123', u'124', u'125', u'126', u'127', u'128', u'2', u'176', u'563', u'1022', u'1011', u'928', u'415', u'416', u'417', u'410', u'411', u'412', u'413', u'920', u'498', u'923', u'924', u'419', u'927', u'319', u'318', u'313', u'1029', u'311', u'310', u'317', u'1236', u'315', u'314', u'1177', u'496', u'832', u'833', u'831', u'836', u'834', u'835', u'839', u'3', u'368', u'369', u'366', u'367', u'364', u'365', u'362', u'363', u'360', u'361', u'218', u'1175', u'381', u'382', u'383', u'384', u'385', u'386', u'387', u'388', u'389', u'784', u'380', u'786', u'787', u'780', u'781', u'782', u'1174', u'630', u'114', u'151', u'579', u'578', u'150', u'573', u'572', u'571', u'570', u'577', u'576', u'575', u'574', u'60', u'61', u'62', u'259', u'64', u'65', u'66', u'67', u'68', u'253', u'250', u'251', u'256', u'257', u'254', u'255', u'499', u'157', u'156', u'939', u'730', u'1038', u'938', u'735', u'508', u'736', u'506', u'507', u'1030', u'505', u'502', u'503', u'500', u'501', u'1212', u'631', u'632', u'633', u'1216', u'468', u'636', u'785', u'465', u'464', u'1128', u'466', u'461', u'900', u'463', u'462', u'901', u'168', u'169', u'164', u'165', u'166', u'167', u'160', u'161', u'162', u'163', u'965', u'966', u'967', u'634', u'969', u'1107', u'1102', u'1103', u'934', u'909', u'635', u'678', u'1183', u'877', u'874', u'872', u'643', u'1242', u'9', u'676', u'1244', u'637', u'893', u'647', u'896', u'897', u'670', u'1087', u'646', u'1099', u'649', u'1199', u'1247', u'672', u'1277', u'1248', u'1173', u'357', u'356', u'355', u'808', u'353', u'352', u'351', u'350', u'568', u'801', u'800', u'1263', u'806', u'805', u'804', u'216', u'217', u'214', u'769', u'212', u'213', u'210', u'211', u'762', u'42', u'761', u'764', u'219', u'41', u'1259', u'1077', u'1074', u'1075', u'1072', u'1073', u'1070', u'1071', u'289', u'288', u'608', u'4', u'281', u'280', u'283', u'282', u'285', u'284', u'287', u'286', u'1094', u'1095', u'1096', u'1090', u'674', u'1154', u'1157', u'1098', u'1150', u'1153', u'673', u'263', u'262', u'261', u'260', u'267', u'266', u'1178', u'264', u'1121', u'269', u'268', u'1082', u'59', u'58', u'1215', u'55', u'54', u'57', u'56', u'51', u'258', u'53', u'52', u'537', u'536', u'535', u'63', u'533', u'532', u'531', u'530', u'598', u'152', u'1081', u'538', u'988', u'989', u'983', u'986', u'777', u'984', u'50', u'115', u'252', u'117', u'776', u'111', u'110', u'113', u'69', u'771', u'5', u'119', u'118', u'773', u'206', u'429', u'1257', u'1254', u'534', u'666', u'1253', u'1250', u'1251', u'421', u'420', u'423', u'916', u'425', u'424', u'913', u'912', u'308', u'309', u'300', u'301', u'302', u'303', u'304', u'305', u'306', u'307', u'825', u'824', u'846', u'844', u'843', u'840', u'1151', u'853', u'539', u'1209', u'648', u'1249', u'240', u'1208', u'390', u'732', u'753', u'752', u'751', u'757', u'756', u'755', u'754', u'560', u'561', u'759', u'509', u'564', u'565', u'566', u'567', u'1032', u'229', u'1033', u'227', u'226', u'225', u'985', u'223', u'504', u'221', u'220', u'1031', u'1188', u'1189', u'1036', u'1185', u'1182', u'1028', u'1181', u'726', u'116', u'722', u'720', u'1160', u'1167', u'729', u'605', u'604', u'607', u'606', u'601', u'600', u'603', u'602', u'1205', u'158', u'1207', u'112', u'609', u'1200', u'1202', u'1204', u'1211', u'976', u'1161', u'469', u'399', u'1217', u'958', u'398', u'1214', u'48', u'49', u'46', u'950', u'44', u'952', u'955', u'954', u'40', u'956', u'1111', u'1110', u'1298', u'1299', u'1115', u'1117', u'639', u'620', u'1118', u'1290', u'467', u'1206', u'460', u'1163', u'489', u'488', u'487', u'486', u'485', u'484', u'483', u'482', u'481', u'480', u'1201', u'472', u'473', u'471', u'476', u'477', u'474', u'475', u'478', u'479']\n"
     ]
    }
   ],
   "source": [
    "#####################################\n",
    "#                 8                 #\n",
    "#####################################\n",
    "\n",
    "## Go through a similar process as before to see if there is a problem.\n",
    "## Locate at least one surprising piece of data, output it, and take a look at it.\n",
    "questionableData = []\n",
    "for n in total_minutes_by_account:\n",
    "    if n > 10000:\n",
    "        questionableData.append(n)\n",
    "\n",
    "print questionableData"
   ]
  },
  {
   "cell_type": "markdown",
   "metadata": {},
   "source": [
    "## Lessons Completed in First Week"
   ]
  },
  {
   "cell_type": "code",
   "execution_count": 22,
   "metadata": {
    "collapsed": false
   },
   "outputs": [
    {
     "name": "stdout",
     "output_type": "stream",
     "text": [
      "Mean: 1.63618090452\n",
      "Standard deviation: 3.00256129983\n",
      "Minimum: 0\n",
      "Maximum: 36\n",
      "\n",
      "\n"
     ]
    }
   ],
   "source": [
    "#####################################\n",
    "#                 9                 #\n",
    "#####################################\n",
    "\n",
    "## Adapt the code above to find the mean, standard deviation, minimum, and maximum for\n",
    "## the number of lessons completed by each student during the first week. Try creating\n",
    "## one or more functions to re-use the code above.\n",
    "\n",
    "'''total_lessons_completed_by_account = {}\n",
    "for account_key, engagement_for_student in engagement_by_account.items():\n",
    "    total_lessons = 0\n",
    "    \n",
    "    for engagement_record in engagement_for_student:\n",
    "        total_lessons += engagement_record[\"lessons_completed\"]\n",
    "        total_lessons_completed_by_account[account_key] = total_lessons\n",
    "\n",
    "total_lessons = total_lessons_completed_by_account.values()\n",
    "print 'Mean:', np.mean(total_lessons)\n",
    "print 'Standard deviation:', np.std(total_lessons)\n",
    "print 'Minimum:', np.min(total_lessons)\n",
    "print 'Maximum:', np.max(total_lessons) \n",
    "'''\n",
    "\n",
    "key_name = 'account_key'\n",
    "total_lessons_completed_by_account = groupData(paid_engagement_in_first_week, 'account_key')\n",
    "totaled_lessons = getTotalOfDataValue(total_lessons_completed_by_account, \"lessons_completed\")\n",
    "summarizeData(totaled_lessons)\n",
    "\n",
    "\n",
    "\n"
   ]
  },
  {
   "cell_type": "markdown",
   "metadata": {},
   "source": [
    "## Number of Visits in First Week"
   ]
  },
  {
   "cell_type": "code",
   "execution_count": 23,
   "metadata": {
    "collapsed": false
   },
   "outputs": [],
   "source": [
    "######################################\n",
    "#                 10                 #\n",
    "######################################\n",
    "\n",
    "\n",
    "\n",
    "## Find the mean, standard deviation, minimum, and maximum for the number of\n",
    "## days each student visits the classroom during the first week.\n",
    "\n",
    "def getTotalDaysVisited(data):    \n",
    "    for account_key, n in data.items():\n",
    "        for n_record in n:\n",
    "            if n_record['num_courses_visited'] == 0:\n",
    "                n_record['has_visited'] = 0\n",
    "            else:\n",
    "                n_record['has_visited'] = 1\n",
    "\n",
    "    total_days_visited = {}\n",
    "    \n",
    "    for account_key, n in data.items():\n",
    "        total_days = 0\n",
    "        for n_record in n:\n",
    "            total_days += n_record['has_visited']\n",
    "            total_days_visited[account_key] = total_days\n",
    "    return total_days_visited\n",
    "\n",
    "#summarizeData(getTotalDaysVisited())\n",
    "\n",
    "    "
   ]
  },
  {
   "cell_type": "markdown",
   "metadata": {},
   "source": [
    "## Splitting out Passing Students"
   ]
  },
  {
   "cell_type": "code",
   "execution_count": 24,
   "metadata": {
    "collapsed": false
   },
   "outputs": [
    {
     "name": "stdout",
     "output_type": "stream",
     "text": [
      "4527\n",
      "2392\n"
     ]
    },
    {
     "data": {
      "text/plain": [
       "\"\\nfor n in paid_engagement\\n\\npassing_engagement = set()\\nnon_passing_engagement = set()\\n\\nfor account_key, n in total_projects_by_account.items():\\n    for n_record in n:\\n        if n_record['lesson_key'] == '746169184' or n_record['lesson_key']== '3176718735':\\n            if n_record['assigned_rating'] == 'PASSED' or n_record['assigned_rating'] == 'DISTINCTION':\\n                account_val = n_record['account_key']\\n                passing_engagement.add(account_val)\\n                #non_passing_engagement = [x for x in non_passing_engagement if x!=account_val]\\n            if n_record['assigned_rating'] == 'INCOMPLETE':\\n                account_val = n_record['account_key']\\n                non_passing_engagement.add(account_val)\\nfor x in passing_engagement:\\n    if x in non_passing_engagement:\\n        non_passing_engagement.remove(x)\\n        \\nprint len(passing_engagement)\\nprint len(non_passing_engagement)\""
      ]
     },
     "execution_count": 24,
     "metadata": {},
     "output_type": "execute_result"
    }
   ],
   "source": [
    "######################################\n",
    "#                 11                 #\n",
    "######################################\n",
    "\n",
    "## Create two lists of engagement data for paid students in the first week.\n",
    "## The first list should contain data for students who eventually pass the\n",
    "## subway project, and the second list should contain data for students\n",
    "## who do not.\n",
    "\n",
    "subway_project_lesson_keys = ['746169184', '3176718735']\n",
    "\n",
    "\n",
    "\n",
    "passing_paid_engagement = set()\n",
    "\n",
    "for n in paidSubmissions:\n",
    "    project = n['lesson_key']\n",
    "    rating = n['assigned_rating']\n",
    "    \n",
    "    if ((project in subway_project_lesson_keys) and (rating == 'PASSED' or rating == 'DISTINCTION')):\n",
    "        passing_paid_engagement.add(n['account_key'])\n",
    "\n",
    "len(passing_paid_engagement)\n",
    "\n",
    "passing_engagement = []\n",
    "non_passing_engagement = []\n",
    "\n",
    "for n in paid_engagement_in_first_week:\n",
    "    if n['account_key'] in passing_paid_engagement:\n",
    "        passing_engagement.append(n)\n",
    "    else:\n",
    "        non_passing_engagement.append(n)\n",
    "print len(passing_engagement)\n",
    "print len(non_passing_engagement)\n",
    "\n",
    "'''\n",
    "for n in paid_engagement\n",
    "\n",
    "passing_engagement = set()\n",
    "non_passing_engagement = set()\n",
    "\n",
    "for account_key, n in total_projects_by_account.items():\n",
    "    for n_record in n:\n",
    "        if n_record['lesson_key'] == '746169184' or n_record['lesson_key']== '3176718735':\n",
    "            if n_record['assigned_rating'] == 'PASSED' or n_record['assigned_rating'] == 'DISTINCTION':\n",
    "                account_val = n_record['account_key']\n",
    "                passing_engagement.add(account_val)\n",
    "                #non_passing_engagement = [x for x in non_passing_engagement if x!=account_val]\n",
    "            if n_record['assigned_rating'] == 'INCOMPLETE':\n",
    "                account_val = n_record['account_key']\n",
    "                non_passing_engagement.add(account_val)\n",
    "for x in passing_engagement:\n",
    "    if x in non_passing_engagement:\n",
    "        non_passing_engagement.remove(x)\n",
    "        \n",
    "print len(passing_engagement)\n",
    "print len(non_passing_engagement)'''"
   ]
  },
  {
   "cell_type": "markdown",
   "metadata": {},
   "source": [
    "## Comparing the Two Student Groups"
   ]
  },
  {
   "cell_type": "code",
   "execution_count": 25,
   "metadata": {
    "collapsed": false
   },
   "outputs": [
    {
     "name": "stdout",
     "output_type": "stream",
     "text": [
      "Passing students total minutes: \n",
      "\n",
      "Mean: 394.586046484\n",
      "Standard deviation: 448.499519327\n",
      "Minimum: 0.0\n",
      "Maximum: 3564.7332645\n",
      "\n",
      "\n",
      "Failing students toatl minutes: \n",
      "\n",
      "Mean: 143.326474267\n",
      "Standard deviation: 269.538619011\n",
      "Minimum: 0.0\n",
      "Maximum: 1768.52274933\n",
      "\n",
      "\n",
      "Passing students total lessons completed \n",
      "\n",
      "Mean: 2.05255023184\n",
      "Standard deviation: 3.14222705558\n",
      "Minimum: 0\n",
      "Maximum: 36\n",
      "\n",
      "\n",
      "Failing students total lessons: \n",
      "\n",
      "Mean: 0.862068965517\n",
      "Standard deviation: 2.54915994183\n",
      "Minimum: 0\n",
      "Maximum: 27\n",
      "\n",
      "\n",
      "Passing students total courses visited \n",
      "\n",
      "Mean: 4.72642967543\n",
      "Standard deviation: 3.7002397793\n",
      "Minimum: 0\n",
      "Maximum: 25\n",
      "\n",
      "\n",
      "Failing students total courses visited: \n",
      "\n",
      "Mean: 2.58908045977\n",
      "Standard deviation: 2.90670969025\n",
      "Minimum: 0\n",
      "Maximum: 18\n",
      "\n",
      "\n",
      "Passing students total courses visited \n",
      "\n",
      "Mean: 3.38485316847\n",
      "Standard deviation: 2.25882147092\n",
      "Minimum: 0\n",
      "Maximum: 7\n",
      "\n",
      "\n",
      "Failing students total courses visited: \n",
      "\n",
      "Mean: 1.90517241379\n",
      "Standard deviation: 1.90573144136\n",
      "Minimum: 0\n",
      "Maximum: 7\n",
      "\n",
      "\n"
     ]
    }
   ],
   "source": [
    "######################################\n",
    "#                 12                 #\n",
    "######################################\n",
    "\n",
    "## Compute some metrics you're interested in and see how they differ for\n",
    "## students who pass the subway project vs. students who don't. A good\n",
    "## starting point would be the metrics we looked at earlier (minutes spent\n",
    "## in the classroom, lessons completed, and days visited)\n",
    "\n",
    "passingGroup = groupData(passing_engagement, account_key)\n",
    "failingGroup = groupData(non_passing_engagement, account_key)\n",
    "\n",
    "passingTotalMinutes = getTotalOfDataValue(passingGroup, \"total_minutes_visited\")\n",
    "failingTotalMinutes = getTotalOfDataValue(failingGroup, 'total_minutes_visited')\n",
    "\n",
    "passingTotalLessons = getTotalOfDataValue(passingGroup, \"lessons_completed\")\n",
    "failingTotalLessons = getTotalOfDataValue(failingGroup, \"lessons_completed\")\n",
    "\n",
    "print \"Passing students total minutes: \\n\"\n",
    "summarizeData(passingTotalMinutes)\n",
    "print \"Failing students toatl minutes: \\n\"\n",
    "summarizeData(failingTotalMinutes)\n",
    "print \"Passing students total lessons completed \\n\"\n",
    "summarizeData(passingTotalLessons)\n",
    "print \"Failing students total lessons: \\n\"\n",
    "summarizeData(failingTotalLessons)\n",
    "\n",
    "passingTotalcourses = getTotalOfDataValue(passingGroup, \"num_courses_visited\")\n",
    "failingTotalcourses = getTotalOfDataValue(failingGroup, \"num_courses_visited\")\n",
    "\n",
    "print \"Passing students total courses visited \\n\"\n",
    "summarizeData(passingTotalcourses)\n",
    "print \"Failing students total courses visited: \\n\"\n",
    "summarizeData(failingTotalcourses)\n",
    "\n",
    "print \"Passing students total courses visited \\n\"\n",
    "summarizeData(getTotalDaysVisited(passingGroup))\n",
    "print \"Failing students total courses visited: \\n\"\n",
    "summarizeData(getTotalDaysVisited(failingGroup))\n"
   ]
  },
  {
   "cell_type": "markdown",
   "metadata": {},
   "source": [
    "## Making Histograms"
   ]
  },
  {
   "cell_type": "code",
   "execution_count": 26,
   "metadata": {
    "collapsed": false
   },
   "outputs": [
    {
     "name": "stdout",
     "output_type": "stream",
     "text": [
      "Populating the interactive namespace from numpy and matplotlib\n"
     ]
    },
    {
     "name": "stderr",
     "output_type": "stream",
     "text": [
      "WARNING: pylab import has clobbered these variables: ['f']\n",
      "`%matplotlib` prevents importing * from pylab and numpy\n"
     ]
    },
    {
     "data": {
      "text/plain": [
       "(array([ 97.,  90.,  56.,  41.,  15.,  24.,  17.,   8.]),\n",
       " array([ 0.   ,  0.875,  1.75 ,  2.625,  3.5  ,  4.375,  5.25 ,  6.125,  7.   ]),\n",
       " <a list of 8 Patch objects>)"
      ]
     },
     "execution_count": 26,
     "metadata": {},
     "output_type": "execute_result"
    },
    {
     "data": {
      "image/png": "[encoded data removed]",
      "text/plain": [
       "<matplotlib.figure.Figure at 0xac298d0>"
      ]
     },
     "metadata": {},
     "output_type": "display_data"
    }
   ],
   "source": [
    "######################################\n",
    "#                 13                 #\n",
    "######################################\n",
    "\n",
    "## Make histograms of the three metrics we looked at earlier for both\n",
    "## students who passed the subway project and students who didn't. You\n",
    "## might also want to make histograms of any other metrics you examined.\n",
    "\n",
    "%pylab inline\n",
    "import matplotlib.pyplot as plt\n",
    "#plt.hist(passingTotalMinutes.values())\n",
    "#plt.hist(failingTotalMinutes.values())\n",
    "#plt.hist(passingTotalLessons.values())\n",
    "#plt.hist(failingTotalLessons.values())\n",
    "#plt.hist(passingTotalcourses.values())\n",
    "#plt.hist(failingTotalcourses.values())\n",
    "plt.hist(getTotalDaysVisited(passingGroup).values(),8)\n",
    "plt.hist(getTotalDaysVisited(failingGroup).values(),8)"
   ]
  },
  {
   "cell_type": "markdown",
   "metadata": {},
   "source": [
    "## Improving Plots and Sharing Findings"
   ]
  },
  {
   "cell_type": "code",
   "execution_count": 27,
   "metadata": {
    "collapsed": false
   },
   "outputs": [
    {
     "name": "stderr",
     "output_type": "stream",
     "text": [
      "C:\\Users\\Rikesh\\Anaconda\\lib\\site-packages\\matplotlib\\__init__.py:872: UserWarning: axes.color_cycle is deprecated and replaced with axes.prop_cycle; please use the latter.\n",
      "  warnings.warn(self.msg_depr % (key, alt_key))\n"
     ]
    },
    {
     "data": {
      "text/plain": [
       "<matplotlib.text.Text at 0x29bfdcf8>"
      ]
     },
     "execution_count": 27,
     "metadata": {},
     "output_type": "execute_result"
    },
    {
     "data": {
      "image/png": "[encoded data removed]",
      "text/plain": [
       "<matplotlib.figure.Figure at 0x185c9b00>"
      ]
     },
     "metadata": {},
     "output_type": "display_data"
    }
   ],
   "source": [
    "######################################\n",
    "#                 14                 #\n",
    "######################################\n",
    "\n",
    "## Make a more polished version of at least one of your visualizations\n",
    "## from earlier. Try importing the seaborn library to make the visualization\n",
    "## look better, adding axis labels and a title, and changing one or more\n",
    "## arguments to the hist() function.\n",
    "\n",
    "import seaborn as sns\n",
    "\n",
    "plt.hist(getTotalDaysVisited(passingGroup).values(),8)\n",
    "plt.hist(getTotalDaysVisited(failingGroup).values(),8)\n",
    "plt.xlabel(\"days visited\")\n",
    "plt.ylabel(\"#\")\n",
    "plt.title(\"Total Days Visited By Students\")\n",
    "\n",
    "\n"
   ]
  }
 ],
 "metadata": {
  "kernelspec": {
   "display_name": "Python 2",
   "language": "python",
   "name": "python2"
  },
  "language_info": {
   "codemirror_mode": {
    "name": "ipython",
    "version": 2
   },
   "file_extension": ".py",
   "mimetype": "text/x-python",
   "name": "python",
   "nbconvert_exporter": "python",
   "pygments_lexer": "ipython2",
   "version": "2.7.11"
  }
 },
 "nbformat": 4,
 "nbformat_minor": 0
}
